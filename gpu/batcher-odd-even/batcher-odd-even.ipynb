{
 "cells": [
  {
   "cell_type": "code",
   "execution_count": 1,
   "id": "a8efddb7",
   "metadata": {},
   "outputs": [],
   "source": [
    "# batcher's even odd sort\n",
    "\n",
    "class BatcherOddEvenMerge:\n",
    "    \n",
    "    def __init__(sefl):\n",
    "        pass\n",
    "    \n",
    "    def sort_aux(self,a,b):\n",
    "        \n",
    "        if len(a)==1:\n",
    "            return [min(a[0],b[0]),max(a[0],b[0])]\n",
    "\n",
    "        # using batcher's numbering for odd and even \n",
    "        # (contrary to based at zero arrays)\n",
    "        a_odd = a[0::2]\n",
    "        a_even = a[1::2]\n",
    "        b_odd = b[0::2]\n",
    "        b_even = b[1::2]\n",
    "\n",
    "        odd = self.sort_aux(a_odd,b_odd)\n",
    "        even = self.sort_aux(a_even,b_even)\n",
    "\n",
    "        c = [0]*(len(a)+len(b))\n",
    "        c[0] = odd[0]\n",
    "        c[-1] = even[-1]\n",
    "        c[1:-1:2] = odd[1::]\n",
    "        c[2:-1:2] = even[0:len(even)-1]\n",
    "        for i in range(1,len(c)-1,2):\n",
    "            if c[i]>c[i+1] : c[i],c[i+1]=c[i+1],c[i]\n",
    "        return c\n",
    "    \n",
    "    def sort(self,a,b):\n",
    "        \n",
    "        def power_of_two(n):\n",
    "            while n>1:\n",
    "                if n%2==1:\n",
    "                    return False\n",
    "                n //= 2\n",
    "            return True\n",
    "        \n",
    "        assert len(a)==len(b), 'lists must be of equal size'\n",
    "        assert power_of_two(len(a)), 'list length must be a power of 2'\n",
    "        return self.sort_aux(a,b)"
   ]
  },
  {
   "cell_type": "code",
   "execution_count": 2,
   "id": "e746728c",
   "metadata": {
    "scrolled": true
   },
   "outputs": [
    {
     "name": "stdout",
     "output_type": "stream",
     "text": [
      "[0, 1, 2, 3, 4, 5, 6, 7, 8, 9, 10, 11, 12, 13, 14, 15]\n"
     ]
    }
   ],
   "source": [
    "import random\n",
    "\n",
    "k= 16\n",
    "a = [i for i in range(k)]\n",
    "#random.shuffle(a)\n",
    "print(a)\n",
    "b = [i for i in range(k)]\n",
    "#random.shuffle(b)\n"
   ]
  },
  {
   "cell_type": "code",
   "execution_count": 3,
   "id": "c15ae442",
   "metadata": {},
   "outputs": [
    {
     "data": {
      "text/plain": [
       "[0,\n",
       " 0,\n",
       " 1,\n",
       " 1,\n",
       " 2,\n",
       " 2,\n",
       " 3,\n",
       " 3,\n",
       " 4,\n",
       " 4,\n",
       " 5,\n",
       " 5,\n",
       " 6,\n",
       " 6,\n",
       " 7,\n",
       " 7,\n",
       " 8,\n",
       " 8,\n",
       " 9,\n",
       " 9,\n",
       " 10,\n",
       " 10,\n",
       " 11,\n",
       " 11,\n",
       " 12,\n",
       " 12,\n",
       " 13,\n",
       " 13,\n",
       " 14,\n",
       " 14,\n",
       " 15,\n",
       " 15]"
      ]
     },
     "execution_count": 3,
     "metadata": {},
     "output_type": "execute_result"
    }
   ],
   "source": [
    "bod = BatcherOddEvenMerge()\n",
    "bod.sort(a,b)"
   ]
  },
  {
   "cell_type": "code",
   "execution_count": 4,
   "id": "40aa3ce5",
   "metadata": {},
   "outputs": [
    {
     "data": {
      "text/plain": [
       "[0, 0, 0, 0, 0, 1, 1, 1, 1, 1, 1, 1, 1, 1, 1, 1]"
      ]
     },
     "execution_count": 4,
     "metadata": {},
     "output_type": "execute_result"
    }
   ],
   "source": [
    "a = [0,0,0,0,1,1,1,1]\n",
    "b = [0,1,1,1,1,1,1,1]\n",
    "bod.sort(a,b)\n"
   ]
  },
  {
   "cell_type": "code",
   "execution_count": null,
   "id": "de3b6194",
   "metadata": {},
   "outputs": [],
   "source": []
  },
  {
   "cell_type": "code",
   "execution_count": null,
   "id": "7e8ebc92",
   "metadata": {},
   "outputs": [],
   "source": []
  },
  {
   "cell_type": "code",
   "execution_count": null,
   "id": "c5dde37d",
   "metadata": {},
   "outputs": [],
   "source": []
  }
 ],
 "metadata": {
  "kernelspec": {
   "display_name": "Python 3 (ipykernel)",
   "language": "python",
   "name": "python3"
  },
  "language_info": {
   "codemirror_mode": {
    "name": "ipython",
    "version": 3
   },
   "file_extension": ".py",
   "mimetype": "text/x-python",
   "name": "python",
   "nbconvert_exporter": "python",
   "pygments_lexer": "ipython3",
   "version": "3.9.7"
  }
 },
 "nbformat": 4,
 "nbformat_minor": 5
}
