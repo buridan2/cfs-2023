{
 "cells": [
  {
   "cell_type": "markdown",
   "id": "595a5edf",
   "metadata": {},
   "source": [
    "-----\n",
    "\n",
    "## Batcher Even-Odd sort\n",
    "\n",
    "Burton Rosenberg\n",
    "\n",
    "14 June 2023\n",
    "\n",
    "\n",
    "----\n",
    "\n",
    "In a 1968 report, Ken Batcher presented two ways to sort that can take advantage of multiple data pathways and multiple computing units. The diagrams for these networks suggest actual physical pathways connecting data comparison units. The data flows from left to right along the pathways, entering the units to be compared, swapped if necessary, and continue on exiting the units.\n",
    "\n",
    "As the data flows, units become dependent on other units, and one arranges the units in layers to clarify the stages of processing. The number of the layers is the processing time for the network. The networks invented by Batcher for $n$ numbers with have $\\log^2 n$ layers. These networks are therefore faster ways to sort numbers.\n",
    "\n",
    "To familiarize outselves with the diagram, here is how the Even-Odd merging network would sort 4 numbers,\n",
    "\n",
    "<pre>\n",
    "a ---+----------+------- s = max(a,b,c,d)\n",
    "     |          |\n",
    "b ---+-- x  y --+--+---  t\n",
    "                   |\n",
    "c ---+-- y  x --+--+---  u\n",
    "     |          |\n",
    "d ---+----------+------- v = min(a,b,c,d)\n",
    "</pre>\n",
    "\n",
    "The crossbar widgets swap or not the two elements entering on the left to leave ordered to the right. The circuit works by first establishing two ordered sublist (first layer) and then merging them (second and third layer). While the exact pattern is not evident in such a small example, in this small example the two sublists are split and the larger are compared to the larger, and the smaller to the smaller (second layer). The largest and smallest are now certainly in the correct place. Then the middle two are considered (third layer).\n",
    "\n",
    "##### The 0-1 Principle \n",
    "\n",
    "Batcher did not know this, but it is a fact that if a sorting network works when the values to sort are restricted to $\\{\\,0,1\\,\\}$, then it works in general.\n",
    "\n",
    "So our inputs, as a list or vector will always be of the form $i$ 1's followed by $n-i$ zeros, where $n$ is a pure power of two. This will be denoted as $\\langle\\,i\\,\\rangle_n$, \n",
    "\n",
    "##### The Induction Hypothesis and Goal\n",
    "\n",
    "We assume to  have $\\langle\\,i\\,\\rangle_n$ and $\\langle\\,j\\,\\rangle_n$ and want their merge, $\\langle\\,i+j\\,\\rangle_{2n}$.\n",
    "\n",
    "##### Even-Odd Split\n",
    "\n",
    "The list $\\langle\\,i\\,\\rangle_n$ is split into even and odd locations. If $i$ is even, then the two splits lists are both $\\langle\\,i/2\\,\\rangle_{n/2}$. If $i$ is odd the lists are $\\langle\\,(i+1)/2\\,\\rangle_{n/2}$ and $\\langle\\,(i-1)/2\\,\\rangle_{n/2}$. The same considerations for the list $\\langle\\,j\\,\\rangle_n$. \n",
    "\n",
    "In the case of $i$ odd, the list with the greater number of 1's is call the top list, and the other the bottom. For $i$ even either one is called the top and the other is called the bottom.\n",
    "\n",
    "##### Recursion \n",
    "\n",
    "Merge the tops lists together; merge the bottom lists together. This is a recursive structure since these are lists of length $n/2$.\n",
    "\n",
    "There are three possible outcomes for the two merged lists.\n",
    "\n",
    "- Both are $\\langle\\,(i+j)/2\\,\\rangle_{n}$.\n",
    "- One is $\\langle\\,(i+j+1)/2\\,\\rangle_{n}$ and the other $\\langle\\,(i+j-1)/2\\,\\rangle_{n}$.\n",
    "- One is $\\langle\\,(i+j)/2+1\\,\\rangle_{n}$ and the other $\\langle\\,(i+j)/2-1\\,\\rangle_{n}$.\n",
    "\n",
    "##### Combine\n",
    "\n",
    "If the highest element of the top list is zero, the both lists are completely zero, and the combine step succeeds. \n",
    "\n",
    "Consider the case that the highest elment of the top list is one. The highest element of the top list is set aside and the lowest element of the bottom list is set aside. The two lists, reduced to the remaining $n-1$ elements, are paired element-wise. According to the three cases in the recursion step, the cases are, \n",
    "\n",
    "- The list $\\langle\\,(i+j)/2-1\\,\\rangle_{n-1}$ is paired with $\\langle\\,(i+j)/2\\,\\rangle_{n-1}$\n",
    "- Both lists in the pair are $\\langle\\,(i+j-1)/2\\,\\rangle_{n-1}$.\n",
    "- The list $\\langle\\,(i+j)/2\\,\\rangle_{n-1}$ is paired with $\\langle\\,(i+j)/2-1\\,\\rangle_{n-1}$.\n",
    "\n",
    "So all but one pairing will be 0-0 or 1-1. The combined list is sorted by the swaping of the (possible) 0-1 pairing.\n",
    "\n",
    "##### Overall algorithm and analysis\n",
    "\n",
    "The overall network combines two logarithmically scalling intentions. The input will be divided into 2, 4, 8, and so on, consecutive wires, and merged. \n",
    "\n",
    "For 2, the two single wires are trivially sorted, and the output is sorted; and is simply the swap device between these wires.\n",
    "\n",
    "Then the pairs of sorted 2's are merged into 4's, etc. With $\\log n$ levels of merge.\n",
    "\n",
    "The above describes the Batcher even-odd merge, which breaks the task of merging to $k$ length lists to two size $k/2$ merges. This is solved recursively. In terms of what circuits are generated at each recursion level, it is a single bank of swap devices. Hence the complete result from the $\\log n$ depth recursion of subproblems is $\\log n$ layers of swap devices.\n",
    "\n",
    "Hence the overall depth of $(\\log n)^2$.\n",
    "\n",
    "### Python code\n",
    "\n",
    "Follows it python code carrying out the sort; however this code does not attempt to simulate a network.\n",
    "\n"
   ]
  },
  {
   "cell_type": "code",
   "execution_count": 1,
   "id": "a8efddb7",
   "metadata": {},
   "outputs": [],
   "source": [
    "# batcher's even odd sort\n",
    "\n",
    "class BatcherOddEvenMerge:\n",
    "    \n",
    "    def __init__(self):\n",
    "        pass\n",
    "    \n",
    "    def sort_aux(self,a,b):\n",
    "        \n",
    "        if len(a)==1:\n",
    "            return [min(a[0],b[0]),max(a[0],b[0])]\n",
    "\n",
    "        # using batcher's numbering for odd and even \n",
    "        # (contrary to based at zero arrays)\n",
    "        a_odd = a[0::2]\n",
    "        a_even = a[1::2]\n",
    "        b_odd = b[0::2]\n",
    "        b_even = b[1::2]\n",
    "\n",
    "        odd = self.sort_aux(a_odd,b_odd)\n",
    "        even = self.sort_aux(a_even,b_even)\n",
    "\n",
    "        c = [0]*(len(a)+len(b))\n",
    "        c[0] = odd[0]\n",
    "        c[-1] = even[-1]\n",
    "        c[1:-1:2] = odd[1::]\n",
    "        c[2:-1:2] = even[0:len(even)-1]\n",
    "        for i in range(1,len(c)-1,2):\n",
    "            if c[i]>c[i+1] : c[i],c[i+1]=c[i+1],c[i]\n",
    "        return c\n",
    "    \n",
    "    def sort(self,a,b):\n",
    "        \n",
    "        def power_of_two(n):\n",
    "            while n>1:\n",
    "                if n%2==1:\n",
    "                    return False\n",
    "                n //= 2\n",
    "            return True\n",
    "        \n",
    "        assert len(a)==len(b), 'lists must be of equal size'\n",
    "        assert power_of_two(len(a)), 'list length must be a power of 2'\n",
    "        return self.sort_aux(a,b)"
   ]
  },
  {
   "cell_type": "code",
   "execution_count": 2,
   "id": "e746728c",
   "metadata": {
    "scrolled": true
   },
   "outputs": [
    {
     "name": "stdout",
     "output_type": "stream",
     "text": [
      "[0, 1, 2, 3, 4, 5, 6, 7, 8, 9, 10, 11, 12, 13, 14, 15]\n"
     ]
    }
   ],
   "source": [
    "import random\n",
    "\n",
    "k= 16\n",
    "a = [i for i in range(k)]\n",
    "#random.shuffle(a)\n",
    "print(a)\n",
    "b = [i for i in range(k)]\n",
    "#random.shuffle(b)\n"
   ]
  },
  {
   "cell_type": "code",
   "execution_count": 3,
   "id": "c15ae442",
   "metadata": {},
   "outputs": [
    {
     "data": {
      "text/plain": [
       "[0,\n",
       " 0,\n",
       " 1,\n",
       " 1,\n",
       " 2,\n",
       " 2,\n",
       " 3,\n",
       " 3,\n",
       " 4,\n",
       " 4,\n",
       " 5,\n",
       " 5,\n",
       " 6,\n",
       " 6,\n",
       " 7,\n",
       " 7,\n",
       " 8,\n",
       " 8,\n",
       " 9,\n",
       " 9,\n",
       " 10,\n",
       " 10,\n",
       " 11,\n",
       " 11,\n",
       " 12,\n",
       " 12,\n",
       " 13,\n",
       " 13,\n",
       " 14,\n",
       " 14,\n",
       " 15,\n",
       " 15]"
      ]
     },
     "execution_count": 3,
     "metadata": {},
     "output_type": "execute_result"
    }
   ],
   "source": [
    "bod = BatcherOddEvenMerge()\n",
    "bod.sort(a,b)"
   ]
  },
  {
   "cell_type": "code",
   "execution_count": 4,
   "id": "40aa3ce5",
   "metadata": {},
   "outputs": [
    {
     "data": {
      "text/plain": [
       "[0, 0, 0, 0, 0, 1, 1, 1, 1, 1, 1, 1, 1, 1, 1, 1]"
      ]
     },
     "execution_count": 4,
     "metadata": {},
     "output_type": "execute_result"
    }
   ],
   "source": [
    "a = [0,0,0,0,1,1,1,1]\n",
    "b = [0,1,1,1,1,1,1,1]\n",
    "bod.sort(a,b)\n"
   ]
  },
  {
   "cell_type": "code",
   "execution_count": null,
   "id": "de3b6194",
   "metadata": {},
   "outputs": [],
   "source": []
  },
  {
   "cell_type": "code",
   "execution_count": null,
   "id": "7e8ebc92",
   "metadata": {},
   "outputs": [],
   "source": []
  },
  {
   "cell_type": "code",
   "execution_count": null,
   "id": "c5dde37d",
   "metadata": {},
   "outputs": [],
   "source": []
  }
 ],
 "metadata": {
  "kernelspec": {
   "display_name": "Python 3 (ipykernel)",
   "language": "python",
   "name": "python3"
  },
  "language_info": {
   "codemirror_mode": {
    "name": "ipython",
    "version": 3
   },
   "file_extension": ".py",
   "mimetype": "text/x-python",
   "name": "python",
   "nbconvert_exporter": "python",
   "pygments_lexer": "ipython3",
   "version": "3.9.7"
  }
 },
 "nbformat": 4,
 "nbformat_minor": 5
}
